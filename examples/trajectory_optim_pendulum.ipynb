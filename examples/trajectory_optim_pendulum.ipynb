{
 "cells": [
  {
   "cell_type": "code",
   "execution_count": 1,
   "id": "5e0aa4ab-22e1-4d10-a4de-89db911040ea",
   "metadata": {
    "tags": [
     "lib"
    ]
   },
   "outputs": [],
   "source": [
    "import jax\n",
    "from jax import jit\n",
    "from jax import lax\n",
    "from jax import vmap\n",
    "import jax.numpy as jnp\n",
    "\n",
    "from functools import partial\n",
    "\n",
    "jax.config.update('jax_enable_x64', True)"
   ]
  },
  {
   "cell_type": "code",
   "execution_count": 2,
   "id": "a350839f-96c0-43ba-87fc-15bc826dbd74",
   "metadata": {
    "tags": [
     "notebook"
    ]
   },
   "outputs": [],
   "source": [
    "import math\n",
    "import numpy as np\n",
    "import plotly.express as px\n",
    "import IPython\n",
    "import matplotlib.pyplot as plt \n",
    "import ipywidgets as widgets\n",
    "\n",
    "%config InlineBackend.figure_formats = ['svg']"
   ]
  },
  {
   "cell_type": "code",
   "execution_count": 3,
   "id": "29ba4f8d-620c-4c69-acf4-b8b710d9698d",
   "metadata": {},
   "outputs": [],
   "source": [
    "from jax_control_algorithms.trajectory_optimization import Solver, constraint_geq, constraint_leq\n",
    "from jax_control_algorithms.ui import manual_investigate, solve_and_plot\n",
    "from jax_control_algorithms.common import rk4"
   ]
  },
  {
   "cell_type": "code",
   "execution_count": 4,
   "id": "7b3c69fc-ea3c-464b-ad89-e0d68eb22e08",
   "metadata": {},
   "outputs": [],
   "source": [
    "test_results = []"
   ]
  },
  {
   "cell_type": "markdown",
   "id": "a69a490b-b910-4547-a065-29ae454bbe3b",
   "metadata": {},
   "source": [
    "# Pendulum model"
   ]
  },
  {
   "cell_type": "code",
   "execution_count": 5,
   "id": "48bc01fd-3740-4a27-97c5-69c5794c8239",
   "metadata": {},
   "outputs": [],
   "source": [
    "def problem_def_pendulum(n_steps, dt):\n",
    "        \n",
    "    def model(x, u, k, theta):\n",
    "        del k\n",
    "        phi, phi_dot = x\n",
    "\n",
    "        a, b  = theta['a'], theta['b']\n",
    "        force = jnp.squeeze(u)\n",
    "\n",
    "        x_dot = jnp.array([\n",
    "            phi_dot,\n",
    "            force - a * jnp.sin(phi) - b * phi_dot\n",
    "        ])\n",
    "\n",
    "        # cost\n",
    "        J = theta['wu'] * u**2\n",
    "        \n",
    "        return x_dot, phi, J\n",
    "\n",
    "    def f(x, u, k, theta):\n",
    "        x_dot, _, _ = model(x, u, k, theta)\n",
    "        return x_dot\n",
    "\n",
    "    def g(x, u, k, theta):\n",
    "        \n",
    "        x_dot, phi, _ = model(x, u, k, theta)\n",
    "        return \n",
    "\n",
    "    def running_cost(x, u, k, theta):\n",
    "        \n",
    "        x_dot, _, J  = model(x, u, k, theta)\n",
    "        return J\n",
    "        \n",
    "    def terminal_constraints(x_final, theta):\n",
    "        phi, phi_dot = x_final\n",
    "\n",
    "        phi_t     = theta['phi_final']\n",
    "        phi_dot_t = theta['phi_dot_final']\n",
    "        \n",
    "        return jnp.array([\n",
    "            phi - phi_t,           # != 0\n",
    "            phi_dot - phi_dot_t,   # != 0  \n",
    "        ])\n",
    "    \n",
    "    def inequality_constraints(x, u, k, theta):\n",
    "        \n",
    "        force = u[:,0]\n",
    "        \n",
    "        # constraints\n",
    "        c_ineq = jnp.array([\n",
    "            constraint_geq( force, theta['force_min'] ),\n",
    "            constraint_leq( force, theta['force_max'] ),\n",
    "            \n",
    "        ])\n",
    "        \n",
    "        # x_dot, P_transmission, P_yield, J, c_ineq = model(x, u, k, theta)\n",
    "        return c_ineq\n",
    "\n",
    "    def initial_guess(x0, theta): # TODO: add theta to the solver\n",
    "                \n",
    "        U_guess = jnp.zeros( (n_steps, 1) )\n",
    "        X_guess = jnp.vstack((\n",
    "            jnp.linspace(x0[0], theta['phi_final'], n_steps),\n",
    "            jnp.linspace(x0[1], theta['phi_dot_final'], n_steps),\n",
    "        )).T\n",
    "        \n",
    "        return { 'X_guess' : X_guess, 'U_guess' : U_guess }\n",
    "    \n",
    "    theta = { \n",
    "        'a'             : 5.0, \n",
    "        'b'             : 0.1,\n",
    "        'wu'            : 0.1,\n",
    "        'force_min'     : -2.5,\n",
    "        'force_max'     :  2.5,\n",
    "        'phi_final'     : jnp.pi,\n",
    "        'phi_dot_final' : 0.0\n",
    "    }\n",
    "    \n",
    "    c_1_init, c_2_init = 0.5, 0.5\n",
    "    \n",
    "    x0 = jnp.array([ jnp.deg2rad(0.0), jnp.deg2rad(0.0), ])\n",
    "    \n",
    "    #\n",
    "    f_dscr = rk4(f, dt)\n",
    "    \n",
    "    problem_definition = {\n",
    "        'f' : f_dscr,\n",
    "        'g' : g,\n",
    "        'running_cost' : running_cost,\n",
    "        'terminal_constraints': terminal_constraints,\n",
    "        'inequality_constraints' : inequality_constraints,\n",
    "        'initial_guess' : initial_guess,\n",
    "        'parameters' : theta,\n",
    "        'x0' : x0,\n",
    "    }\n",
    "    \n",
    "    return problem_definition   \n",
    "\n",
    "f_dscr, g, running_cost, terminal_constraints, inequality_constraints, theta, x0, initial_guess = problem_def_pendulum(50, 0.1)"
   ]
  },
  {
   "cell_type": "code",
   "execution_count": 6,
   "id": "9271f483-30d2-4c86-bce8-0ddc8b29eaa0",
   "metadata": {},
   "outputs": [],
   "source": [
    "def plot_pendulum(X_opt, U_opt, system_outputs, theta):\n",
    "\n",
    "    # prepare data\n",
    "    force = U_opt[:,0]\n",
    "    phi, phi_dot = X_opt[:,0], X_opt[:,1]\n",
    "\n",
    "    _ = system_outputs # unpack output variable (return of function g)\n",
    "\n",
    "    _, _, _, _ = theta['a'], theta['b'], theta['force_min'], theta['force_max']\n",
    "\n",
    "    # make time vectors\n",
    "    time1 = jnp.linspace(0, phi.shape[0]-1,   phi.shape[0])\n",
    "    time2 = jnp.linspace(0, force.shape[0]-1, force.shape[0])\n",
    "\n",
    "    # Create a figure and two subplots\n",
    "    fig, (ax1, ax2, ax3) = plt.subplots(3, 1, sharex=True, figsize=(4, 6))\n",
    "\n",
    "    ax1.plot( time1, jnp.rad2deg(phi), 'k', label='phi')\n",
    "    ax1.plot(\n",
    "        [ time1[0], time1[-1] ], \n",
    "        jnp.rad2deg( jnp.array([theta['phi_final'], theta['phi_final']]) ), 'k:',\n",
    "        label='phi final'\n",
    "    )\n",
    "    \n",
    "    ax1.legend()\n",
    "    ax1.set_ylabel('phi [degrees]')\n",
    "\n",
    "    ax2.plot( time1, jnp.rad2deg(phi_dot), 'k', label='phi_dot' )\n",
    "    ax2.plot(\n",
    "        [ time1[0], time1[-1] ], \n",
    "        jnp.rad2deg( jnp.array([theta['phi_dot_final'], theta['phi_dot_final']]) ), 'k:',\n",
    "        label='phi dot final'\n",
    "    )\n",
    "    ax2.set_ylabel('phi dot [degrees/s]')\n",
    "    ax2.legend()\n",
    "\n",
    "    # \n",
    "    ax3.plot( time2, force, 'k', label='force' )    \n",
    "    ax3.plot(\n",
    "        [ time2[0], time2[-1] ], \n",
    "        jnp.array([theta['force_min'], theta['force_min']]), ':k',\n",
    "        label='force_min'\n",
    "    )\n",
    "    ax3.plot(\n",
    "        [ time2[0], time2[-1] ], \n",
    "        jnp.array([theta['force_max'], theta['force_max']]), ':k',\n",
    "        label='force_max'\n",
    "    )\n",
    "    \n",
    "    ax3.legend()\n",
    "    ax3.set_ylabel('force []')\n",
    "\n",
    "    # Show the plot\n",
    "    plt.show()"
   ]
  },
  {
   "cell_type": "code",
   "execution_count": 7,
   "id": "c28ebae4-fed8-4364-862c-a11778129017",
   "metadata": {},
   "outputs": [],
   "source": [
    "sliders = {\n",
    "        'a'         : widgets.FloatSlider(min=1.0,  max=20,  step=0.1,   value=5.0,  description='a'),\n",
    "        'b'         : widgets.FloatSlider(min=0.01, max=5.0, step=0.01,  value=0.1,  description='b'),\n",
    "        'force_min' : widgets.FloatSlider(min=-10,  max=0,   step=0.01,  value=-2,   description='force_min'),\n",
    "        'force_max' : widgets.FloatSlider(min=0,    max=10,  step=0.01,  value=2,    description='force_max'),\n",
    "}\n",
    "\n",
    "solver = Solver( partial(problem_def_pendulum, n_steps = 50, dt=0.1) )\n",
    "\n",
    "def set_theta_fn(solver, a, b, force_min, force_max):\n",
    "        solver.problem_definition['parameters']['a'] = a\n",
    "        solver.problem_definition['parameters']['b'] = b\n",
    "        solver.problem_definition['parameters']['force_min'] = force_min\n",
    "        solver.problem_definition['parameters']['force_max'] = force_max\n",
    "        \n",
    "#solver.theta"
   ]
  },
  {
   "cell_type": "code",
   "execution_count": 8,
   "id": "f2714462-53b8-44b4-9689-7abcf19ffc35",
   "metadata": {},
   "outputs": [],
   "source": [
    "def test_pendulum():\n",
    "    # test\n",
    "    set_theta_fn(solver, a=5.0, b=0.1, wu=0.1, force_min=-10, force_max=10)\n",
    "    X_opt, U_opt, system_outputs, res = solver.run()    "
   ]
  },
  {
   "cell_type": "code",
   "execution_count": 9,
   "id": "1c672f04-8908-4dc0-94e0-c301680fc7e5",
   "metadata": {
    "tags": []
   },
   "outputs": [
    {
     "data": {
      "application/vnd.jupyter.widget-view+json": {
       "model_id": "9d2f22e2b37f41989f15d84fcc196477",
       "version_major": 2,
       "version_minor": 0
      },
      "text/plain": [
       "GridBox(children=(FloatSlider(value=5.0, description='a', max=20.0, min=1.0), FloatSlider(value=0.1, descripti…"
      ]
     },
     "metadata": {},
     "output_type": "display_data"
    },
    {
     "data": {
      "application/vnd.jupyter.widget-view+json": {
       "model_id": "890d7ffe48bd4cb991a0efb3f22cb56e",
       "version_major": 2,
       "version_minor": 0
      },
      "text/plain": [
       "Output()"
      ]
     },
     "metadata": {},
     "output_type": "display_data"
    },
    {
     "data": {
      "application/vnd.jupyter.widget-view+json": {
       "model_id": "b70a73f7f7db4280b07d5e5a7615eb7f",
       "version_major": 2,
       "version_minor": 0
      },
      "text/plain": [
       "Output()"
      ]
     },
     "metadata": {},
     "output_type": "display_data"
    }
   ],
   "source": [
    "ui, output_box, print_output, plot_output = manual_investigate(solver, sliders, set_theta_fn, plot_pendulum )\n",
    "display(ui, plot_output, print_output)"
   ]
  },
  {
   "cell_type": "code",
   "execution_count": 10,
   "id": "c650df26-9361-4275-bc38-3bc7330ca63d",
   "metadata": {},
   "outputs": [],
   "source": [
    "test_results.append( ['pendulum without cart', solver.success ] )"
   ]
  },
  {
   "cell_type": "markdown",
   "id": "285b8358-00f9-4e45-a0e6-dffacc0c1555",
   "metadata": {},
   "source": [
    "# Verify"
   ]
  },
  {
   "cell_type": "code",
   "execution_count": 11,
   "id": "3edb3887-6d47-44ee-ba84-73dd81177f52",
   "metadata": {},
   "outputs": [],
   "source": [
    "def verify_test_results(test_results):\n",
    "    for r in test_results:\n",
    "        if not r[1]:\n",
    "            raise BaseException('Test ' + r[0] + ' failed')\n",
    "            \n",
    "verify_test_results(test_results)"
   ]
  }
 ],
 "metadata": {
  "kernelspec": {
   "display_name": "Python 3 (ipykernel)",
   "language": "python",
   "name": "python3"
  },
  "language_info": {
   "codemirror_mode": {
    "name": "ipython",
    "version": 3
   },
   "file_extension": ".py",
   "mimetype": "text/x-python",
   "name": "python",
   "nbconvert_exporter": "python",
   "pygments_lexer": "ipython3",
   "version": "3.9.13"
  }
 },
 "nbformat": 4,
 "nbformat_minor": 5
}
