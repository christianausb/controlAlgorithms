{
 "cells": [
  {
   "cell_type": "code",
   "execution_count": 1,
   "id": "5e0aa4ab-22e1-4d10-a4de-89db911040ea",
   "metadata": {
    "tags": [
     "lib"
    ]
   },
   "outputs": [],
   "source": [
    "import jax\n",
    "from jax import jit\n",
    "from jax import lax\n",
    "from jax import vmap\n",
    "import jax.numpy as jnp\n",
    "\n",
    "from functools import partial\n",
    "\n",
    "jax.config.update('jax_enable_x64', True)"
   ]
  },
  {
   "cell_type": "code",
   "execution_count": 2,
   "id": "a350839f-96c0-43ba-87fc-15bc826dbd74",
   "metadata": {
    "tags": [
     "notebook"
    ]
   },
   "outputs": [],
   "source": [
    "import math\n",
    "import numpy as np\n",
    "import plotly.express as px\n",
    "import IPython\n",
    "import matplotlib.pyplot as plt \n",
    "import ipywidgets as widgets\n",
    "\n",
    "%config InlineBackend.figure_formats = ['svg']"
   ]
  },
  {
   "cell_type": "code",
   "execution_count": 3,
   "id": "29ba4f8d-620c-4c69-acf4-b8b710d9698d",
   "metadata": {},
   "outputs": [],
   "source": [
    "from jax_control_algorithms.trajectory_optimization import Solver, constraint_geq, constraint_leq, unpack_res\n",
    "from jax_control_algorithms.ui import manual_investigate\n",
    "from jax_control_algorithms.common import rk4"
   ]
  },
  {
   "attachments": {},
   "cell_type": "markdown",
   "id": "17be56ca-0162-4546-9076-65600c281b18",
   "metadata": {},
   "source": [
    "# Flow model"
   ]
  },
  {
   "cell_type": "code",
   "execution_count": 4,
   "id": "e60c0479-072e-41ba-8d22-4c5d8355d07c",
   "metadata": {},
   "outputs": [],
   "source": [
    "def make_trajectories(n_steps, P_max_src_1 = 100, P_max_src_2 = 10, balance=0.0):\n",
    "    P_src_1 = P_max_src_1 * jnp.concatenate(( jnp.zeros(10), jnp.sin( jnp.linspace(0, math.pi, n_steps-20 )), jnp.zeros(10)  ))\n",
    "    P_src_2 = P_max_src_2 * jnp.concatenate(( jnp.zeros(10), jnp.sin( jnp.linspace(0, math.pi, n_steps-20 )), jnp.zeros(10)  ))\n",
    "    \n",
    "    b = jnp.linspace(-balance, balance, n_steps)\n",
    "    price  = b + jnp.concatenate(( jnp.ones(10), 1-jnp.sin( jnp.linspace(0, math.pi, n_steps-20 )), jnp.ones(10)  ))\n",
    "    \n",
    "    return P_src_1, P_src_2, price\n",
    "    \n",
    "\n",
    "def problem_def_powerflow(n_steps = 50):\n",
    "        \n",
    "    def model(x, u, k, theta):\n",
    "        \n",
    "        bat_1, bat_2 = x[0], x[1]\n",
    "        P_bat_1, P_bat_2 = u[0], u[1]\n",
    "        \n",
    "        c_1, c_2, P_src_1, P_src_2, reward = theta['c_1'], theta['c_2'], theta['P_src_1'], theta['P_src_2'], theta['reward']\n",
    "                \n",
    "        #\n",
    "        P_transmission = P_src_1[k] + P_bat_1\n",
    "        P_yield = P_transmission + P_src_2[k] + P_bat_2\n",
    "        \n",
    "        #\n",
    "        bat_1_dot = 1/c_1 * ( -P_bat_1 )\n",
    "        bat_2_dot = 1/c_2 * ( -P_bat_2 )\n",
    "        \n",
    "        x_dot = jnp.array([\n",
    "            bat_1_dot, bat_2_dot\n",
    "        ])\n",
    " \n",
    "        #\n",
    "        R = reward[k] * P_yield\n",
    "        J = - 0.01*R\n",
    "        \n",
    "        \n",
    "        deb1 = P_src_2[k]\n",
    "        deb2 = P_bat_2\n",
    "                 \n",
    "        return x_dot, P_transmission, P_yield, J, R, deb1, deb2\n",
    "\n",
    "    def f(x, u, k, theta):\n",
    "        x_dot, P_transmission, P_yield, J, R, _, _ = model(x, u, k, theta)\n",
    "        return x_dot\n",
    "\n",
    "    def g(x, u, k, theta):\n",
    "        x_dot, P_transmission, P_yield, J, R, deb1, deb2 = model(x, u, k, theta)\n",
    "        return P_transmission, P_yield, R, deb1, deb2\n",
    "\n",
    "    def running_cost(x, u, k, theta):\n",
    "        \n",
    "        x_dot, P_transmission, P_yield, J, R, _, _ = model(x, u, k, theta)\n",
    "        return J\n",
    "        \n",
    "    def terminal_state_eq_constraints(x_final, theta):\n",
    "        bat_1, bat_2 = x_final\n",
    "\n",
    "        return jnp.array([\n",
    "            0.2,\n",
    "            0.1\n",
    "        ])\n",
    "    \n",
    "    def inequ_constraints(x, u, k, theta):\n",
    "        \n",
    "        bat_1,   bat_2   = x[:,0], x[:,1]\n",
    "        P_bat_1, P_bat_2 = u[:,0], u[:,1]\n",
    "        \n",
    "        # constraints\n",
    "        c_ineq = jnp.array([\n",
    "            constraint_geq( bat_1, 0 ),\n",
    "            constraint_leq( bat_1, 1 ),\n",
    "            \n",
    "            constraint_geq( bat_2, 0 ),\n",
    "            constraint_leq( bat_2, 1 ),\n",
    "            \n",
    "            constraint_geq( P_bat_1, -10 ),\n",
    "            constraint_leq( P_bat_1,  10 ),\n",
    "            \n",
    "            constraint_geq( P_bat_2, -50 ),\n",
    "            constraint_leq( P_bat_2,  50 ),\n",
    "        ])\n",
    "        \n",
    "        # x_dot, P_transmission, P_yield, J, c_ineq = model(x, u, k, theta)\n",
    "        return c_ineq\n",
    "        \n",
    "    def make_guess(x0, theta):\n",
    "        U_guess = jnp.zeros( (n_steps, 2) )\n",
    "\n",
    "        X_guess = jnp.vstack((\n",
    "            jnp.linspace(x0[0], x0[0], n_steps ),\n",
    "            jnp.linspace(x0[1], x0[1], n_steps ),\n",
    "        )).T\n",
    "        \n",
    "        return X_guess, U_guess\n",
    "    \n",
    "    \n",
    "    P_src_1, P_src_2, reward = make_trajectories(n_steps, 100, 10)\n",
    "    \n",
    "    theta = { \n",
    "        'c_1'     : 200, \n",
    "        'c_2'     : 2000, \n",
    "        'P_src_1' : P_src_1, \n",
    "        'P_src_2' : P_src_2,\n",
    "        'reward'  : reward\n",
    "    }\n",
    "    \n",
    "    c_1_init, c_2_init = 0.5, 0.5\n",
    "    x0 = jnp.array([ c_1_init, c_2_init ])\n",
    "    \n",
    "    #\n",
    "    f_dscr = rk4(f, dt=1.0)\n",
    "\n",
    "    return f_dscr, g, running_cost, None, inequ_constraints, theta, x0, make_guess\n",
    "\n",
    "\n",
    "\n",
    "f_dscr, g, running_cost, terminal_state_eq_constraints, inequ_constraints, theta, x0, make_guess = problem_def_powerflow(n_steps = 50)"
   ]
  },
  {
   "cell_type": "code",
   "execution_count": 5,
   "id": "3e683114-fcc3-4d3f-93bc-7b95a2cddc3e",
   "metadata": {},
   "outputs": [],
   "source": [
    "def plot_flow(X_opt, U_opt, system_outputs, theta):\n",
    "\n",
    "    # prepare data\n",
    "    P_transmission, P_yield, R, deb1, deb2 = system_outputs # unpack output variable (return of function g)\n",
    "\n",
    "    _, _, P_src_1, P_src_2, reward = theta['c_1'], theta['c_2'], theta['P_src_1'], theta['P_src_2'], theta['reward']\n",
    "\n",
    "    P_bat_1, P_bat_2 = U_opt[:,0], U_opt[:,1]\n",
    "    soc_1, soc_2     = X_opt[:,0], X_opt[:,1]\n",
    "\n",
    "    # make time vectors\n",
    "    time  = jnp.linspace(0, soc_1.shape[0]-1, soc_1.shape[0])\n",
    "    time2 = jnp.linspace(0, P_bat_1.shape[0]-1, P_bat_1.shape[0])\n",
    "\n",
    "    # Create a figure and two subplots\n",
    "    fig, ((ax1, ax2), (ax3, ax4)) = plt.subplots(2, 2, sharex=True, figsize=(12, 5))\n",
    "\n",
    "    ax1.plot(P_transmission, label='P_transmission' )\n",
    "    ax1.plot(P_yield, label='P_yield' )\n",
    "    ax1.plot(P_src_1, '-', label='P_src_1' )\n",
    "    ax1.plot(P_src_2, '-', label='P_src_2' )\n",
    "    ax1.legend()\n",
    "    ax1.set_ylabel('power')\n",
    "\n",
    "    ax2.plot(time2, P_bat_1, '-+', label='power bat 1')\n",
    "    ax2.plot(time2, P_bat_2, '-+',  label='power bat 2')\n",
    "    ax2.set_ylabel('soc %')\n",
    "    ax2.legend()\n",
    "\n",
    "    ax3.plot(time, soc_1, '-+',  label='soc bat 1')\n",
    "    ax3.plot(time, soc_2, '-+',  label='soc bat 2')\n",
    "    ax3.set_ylabel('soc %')\n",
    "    ax3.legend()\n",
    "\n",
    "    ax4.plot(time2, 100*reward, '-+',  label='100 * price')\n",
    "    ax4.plot(time2, R, '-+',  label='R')\n",
    "    ax4.set_ylabel('')\n",
    "    ax4.legend()\n",
    "\n",
    "    # Add a title to the entire figure\n",
    "    fig.suptitle('time series')\n",
    "\n",
    "    # Show the plot\n",
    "    plt.show()    "
   ]
  },
  {
   "cell_type": "code",
   "execution_count": 6,
   "id": "a0da3c94-7b09-4e38-ac29-86dc65a3321d",
   "metadata": {
    "tags": []
   },
   "outputs": [
    {
     "data": {
      "text/plain": [
       "5.555555555555555"
      ]
     },
     "execution_count": 6,
     "metadata": {},
     "output_type": "execute_result"
    }
   ],
   "source": [
    "comp_secs_in_one_h = 5 * 1000 * 4 # secs per hour\n",
    "secs_in_one_h = 60 * 60\n",
    "\n",
    "comp_secs_in_one_h / secs_in_one_h\n"
   ]
  },
  {
   "cell_type": "code",
   "execution_count": 7,
   "id": "a868fc51-1d34-42f7-80b8-d474ea0b3b04",
   "metadata": {},
   "outputs": [],
   "source": [
    "sliders = {\n",
    "        'c_1'           : widgets.FloatSlider(min=100, max=400,  step=1.0, value=200,  description='c_1'),\n",
    "        'c_2'           : widgets.FloatSlider(min=100, max=8000, step=1.0, value=2000, description='c_2'),\n",
    "        'P_src_1'       : widgets.FloatSlider(min=10, max=100, step=1.0, value=100, description='P_src_1'),\n",
    "        'P_src_2'       : widgets.FloatSlider(min=1, max=10, step=1.0,   value=10, description='P_src_2'),\n",
    "        'price_balance' : widgets.FloatSlider(min=-1, max=1, step=0.01, value=0.0, description='price_balance'),\n",
    "}\n",
    "\n",
    "solver = Solver( partial(problem_def_powerflow, n_steps = 50), use_continuation=False )\n",
    "\n",
    "def set_theta_fn(solver, c_1, c_2, P_src_1, P_src_2, price_balance):\n",
    "        solver.theta['c_1'] = c_1\n",
    "        solver.theta['c_2'] = c_2\n",
    "\n",
    "        P_src_1_, P_src_2_, price = make_trajectories(solver.n_steps, P_src_1, P_src_2, price_balance)\n",
    "\n",
    "        solver.theta['P_src_1'] = P_src_1_\n",
    "        solver.theta['P_src_2'] = P_src_2_\n",
    "        solver.theta['reward']  = price\n",
    "        \n",
    "#solver.tol_inner = 0.001\n",
    "#solver.eq_tol = 0.001"
   ]
  },
  {
   "cell_type": "code",
   "execution_count": 8,
   "id": "980a7264-cfca-4587-9740-0c9861c27ada",
   "metadata": {},
   "outputs": [
    {
     "data": {
      "application/vnd.jupyter.widget-view+json": {
       "model_id": "0aa36b7a2df74ae7ac5386e32c47422f",
       "version_major": 2,
       "version_minor": 0
      },
      "text/plain": [
       "GridBox(children=(FloatSlider(value=200.0, description='c_1', max=400.0, min=100.0, step=1.0), FloatSlider(val…"
      ]
     },
     "metadata": {},
     "output_type": "display_data"
    },
    {
     "data": {
      "application/vnd.jupyter.widget-view+json": {
       "model_id": "4d36d9f8940044cf9512fe8e68b7e465",
       "version_major": 2,
       "version_minor": 0
      },
      "text/plain": [
       "VBox(children=(HBox(children=(Output(),), layout=Layout(height='350px')), Output()))"
      ]
     },
     "metadata": {},
     "output_type": "display_data"
    }
   ],
   "source": [
    "ui, output_box, print_output, plot_output = manual_investigate( solver, sliders, set_theta_fn, plot_flow )\n",
    "display(ui, output_box)"
   ]
  },
  {
   "cell_type": "code",
   "execution_count": null,
   "id": "2e4b3b3e-3d38-44f9-8aa3-c588068dcaa2",
   "metadata": {},
   "outputs": [],
   "source": []
  },
  {
   "cell_type": "code",
   "execution_count": null,
   "id": "be90dc2c-6527-42c1-914e-ae3dfddc84a3",
   "metadata": {},
   "outputs": [],
   "source": []
  },
  {
   "attachments": {},
   "cell_type": "markdown",
   "id": "fd07b913-4de9-465b-9f0e-79304da7252b",
   "metadata": {},
   "source": [
    "# Unit test: Compute parameter sweep"
   ]
  },
  {
   "cell_type": "code",
   "execution_count": 9,
   "id": "52be4f05-6a1c-4a8d-b385-047cc0fe61f3",
   "metadata": {},
   "outputs": [
    {
     "name": "stdout",
     "output_type": "stream",
     "text": [
      "👉 solving problem with n_horizon=50, n_states=2 n_inputs=2\n",
      "🔄 it=0 \t (sub iter=140) \t t_opt=0.5 \t  eq=0.014530000000000001 \t neq=-0.0\n",
      "🔄 it=1 \t (sub iter=134) \t t_opt=0.8 \t  eq=0.015960000000000002 \t neq=-0.0\n",
      "🔄 it=2 \t (sub iter=157) \t t_opt=1.28 \t  eq=0.015850000000000003 \t neq=-0.0\n",
      "🔄 it=3 \t (sub iter=120) \t t_opt=2.05 \t  eq=0.013810000000000001 \t neq=-0.0\n",
      "🔄 it=4 \t (sub iter=203) \t t_opt=3.2800000000000002 \t  eq=0.01077 \t neq=-0.0\n",
      "🔄 it=5 \t (sub iter=192) \t t_opt=5.24 \t  eq=0.007320000000000001 \t neq=-0.0\n",
      "🔄 it=6 \t (sub iter=190) \t t_opt=8.39 \t  eq=0.005260000000000001 \t neq=-0.0\n",
      "🔄 it=7 \t (sub iter=222) \t t_opt=13.42 \t  eq=0.00369 \t neq=-0.0\n",
      "🔄 it=8 \t (sub iter=230) \t t_opt=21.47 \t  eq=0.00253 \t neq=-0.0\n",
      "🔄 it=9 \t (sub iter=262) \t t_opt=34.36 \t  eq=0.00152 \t neq=-0.0\n",
      "🔄 it=10 \t (sub iter=255) \t t_opt=54.980000000000004 \t  eq=0.00109 \t neq=-0.0\n",
      "🔄 it=11 \t (sub iter=291) \t t_opt=87.96000000000001 \t  eq=0.00064 \t neq=-0.0\n",
      "🔄 it=12 \t (sub iter=369) \t t_opt=140.74 \t  eq=0.00038 \t neq=-0.0\n",
      "🔄 it=13 \t (sub iter=205) \t t_opt=225.18 \t  eq=0.00029 \t neq=-0.0\n",
      "🔄 it=14 \t (sub iter=351) \t t_opt=360.29 \t  eq=0.00018 \t neq=-0.0\n",
      "🔄 it=15 \t (sub iter=267) \t t_opt=576.46 \t  eq=0.00011 \t neq=-0.0\n",
      "🔄 it=16 \t (sub iter=399) \t t_opt=922.34 \t  eq=7.000000000000001e-05 \t neq=-0.0\n",
      "✅ found feasible solution\n",
      "Execution time: 5.1044909954071045 seconds\n",
      "loop\n",
      "👉 solving problem with n_horizon=50, n_states=2 n_inputs=2\n",
      "🔄 it=0 \t (sub iter=140) \t t_opt=0.5 \t  eq=0.014530000000000001 \t neq=-0.0\n",
      "🔄 it=1 \t (sub iter=134) \t t_opt=0.8 \t  eq=0.015960000000000002 \t neq=-0.0\n",
      "🔄 it=2 \t (sub iter=157) \t t_opt=1.28 \t  eq=0.015850000000000003 \t neq=-0.0\n",
      "🔄 it=3 \t (sub iter=120) \t t_opt=2.05 \t  eq=0.013810000000000001 \t neq=-0.0\n",
      "🔄 it=4 \t (sub iter=203) \t t_opt=3.2800000000000002 \t  eq=0.01077 \t neq=-0.0\n",
      "🔄 it=5 \t (sub iter=192) \t t_opt=5.24 \t  eq=0.007320000000000001 \t neq=-0.0\n",
      "🔄 it=6 \t (sub iter=190) \t t_opt=8.39 \t  eq=0.005260000000000001 \t neq=-0.0\n",
      "🔄 it=7 \t (sub iter=222) \t t_opt=13.42 \t  eq=0.00369 \t neq=-0.0\n",
      "🔄 it=8 \t (sub iter=230) \t t_opt=21.47 \t  eq=0.00253 \t neq=-0.0\n",
      "🔄 it=9 \t (sub iter=262) \t t_opt=34.36 \t  eq=0.00152 \t neq=-0.0\n",
      "🔄 it=10 \t (sub iter=255) \t t_opt=54.980000000000004 \t  eq=0.00109 \t neq=-0.0\n",
      "🔄 it=11 \t (sub iter=291) \t t_opt=87.96000000000001 \t  eq=0.00064 \t neq=-0.0\n",
      "🔄 it=12 \t (sub iter=369) \t t_opt=140.74 \t  eq=0.00038 \t neq=-0.0\n",
      "🔄 it=13 \t (sub iter=205) \t t_opt=225.18 \t  eq=0.00029 \t neq=-0.0\n",
      "🔄 it=14 \t (sub iter=351) \t t_opt=360.29 \t  eq=0.00018 \t neq=-0.0\n",
      "🔄 it=15 \t (sub iter=267) \t t_opt=576.46 \t  eq=0.00011 \t neq=-0.0\n",
      "🔄 it=16 \t (sub iter=399) \t t_opt=922.34 \t  eq=7.000000000000001e-05 \t neq=-0.0\n",
      "✅ found feasible solution\n",
      "Execution time: 5.060404062271118 seconds\n",
      "👉 solving problem with n_horizon=50, n_states=2 n_inputs=2\n",
      "🔄 it=0 \t (sub iter=140) \t t_opt=0.5 \t  eq=0.014530000000000001 \t neq=-0.0\n",
      "🔄 it=1 \t (sub iter=134) \t t_opt=0.8 \t  eq=0.015960000000000002 \t neq=-0.0\n",
      "🔄 it=2 \t (sub iter=157) \t t_opt=1.28 \t  eq=0.015850000000000003 \t neq=-0.0\n",
      "🔄 it=3 \t (sub iter=120) \t t_opt=2.05 \t  eq=0.013810000000000001 \t neq=-0.0\n",
      "🔄 it=4 \t (sub iter=203) \t t_opt=3.2800000000000002 \t  eq=0.01077 \t neq=-0.0\n",
      "🔄 it=5 \t (sub iter=192) \t t_opt=5.24 \t  eq=0.007320000000000001 \t neq=-0.0\n",
      "🔄 it=6 \t (sub iter=190) \t t_opt=8.39 \t  eq=0.005260000000000001 \t neq=-0.0\n",
      "🔄 it=7 \t (sub iter=222) \t t_opt=13.42 \t  eq=0.00369 \t neq=-0.0\n",
      "🔄 it=8 \t (sub iter=230) \t t_opt=21.47 \t  eq=0.00253 \t neq=-0.0\n",
      "🔄 it=9 \t (sub iter=262) \t t_opt=34.36 \t  eq=0.00152 \t neq=-0.0\n",
      "🔄 it=10 \t (sub iter=255) \t t_opt=54.980000000000004 \t  eq=0.00109 \t neq=-0.0\n",
      "🔄 it=11 \t (sub iter=291) \t t_opt=87.96000000000001 \t  eq=0.00064 \t neq=-0.0\n",
      "🔄 it=12 \t (sub iter=369) \t t_opt=140.74 \t  eq=0.00038 \t neq=-0.0\n",
      "🔄 it=13 \t (sub iter=205) \t t_opt=225.18 \t  eq=0.00029 \t neq=-0.0\n",
      "🔄 it=14 \t (sub iter=351) \t t_opt=360.29 \t  eq=0.00018 \t neq=-0.0\n",
      "🔄 it=15 \t (sub iter=267) \t t_opt=576.46 \t  eq=0.00011 \t neq=-0.0\n",
      "🔄 it=16 \t (sub iter=399) \t t_opt=922.34 \t  eq=7.000000000000001e-05 \t neq=-0.0\n",
      "✅ found feasible solution\n",
      "Execution time: 1.587435007095337 seconds\n",
      "👉 solving problem with n_horizon=50, n_states=2 n_inputs=2\n",
      "🔄 it=0 \t (sub iter=140) \t t_opt=0.5 \t  eq=0.014530000000000001 \t neq=-0.0\n",
      "🔄 it=1 \t (sub iter=134) \t t_opt=0.8 \t  eq=0.015960000000000002 \t neq=-0.0\n",
      "🔄 it=2 \t (sub iter=157) \t t_opt=1.28 \t  eq=0.015850000000000003 \t neq=-0.0\n",
      "🔄 it=3 \t (sub iter=120) \t t_opt=2.05 \t  eq=0.013810000000000001 \t neq=-0.0\n",
      "🔄 it=4 \t (sub iter=203) \t t_opt=3.2800000000000002 \t  eq=0.01077 \t neq=-0.0\n",
      "🔄 it=5 \t (sub iter=192) \t t_opt=5.24 \t  eq=0.007320000000000001 \t neq=-0.0\n",
      "🔄 it=6 \t (sub iter=190) \t t_opt=8.39 \t  eq=0.005260000000000001 \t neq=-0.0\n",
      "🔄 it=7 \t (sub iter=222) \t t_opt=13.42 \t  eq=0.00369 \t neq=-0.0\n",
      "🔄 it=8 \t (sub iter=230) \t t_opt=21.47 \t  eq=0.00253 \t neq=-0.0\n",
      "🔄 it=9 \t (sub iter=262) \t t_opt=34.36 \t  eq=0.00152 \t neq=-0.0\n",
      "🔄 it=10 \t (sub iter=255) \t t_opt=54.980000000000004 \t  eq=0.00109 \t neq=-0.0\n",
      "🔄 it=11 \t (sub iter=291) \t t_opt=87.96000000000001 \t  eq=0.00064 \t neq=-0.0\n",
      "🔄 it=12 \t (sub iter=369) \t t_opt=140.74 \t  eq=0.00038 \t neq=-0.0\n",
      "🔄 it=13 \t (sub iter=205) \t t_opt=225.18 \t  eq=0.00029 \t neq=-0.0\n",
      "🔄 it=14 \t (sub iter=351) \t t_opt=360.29 \t  eq=0.00018 \t neq=-0.0\n",
      "🔄 it=15 \t (sub iter=267) \t t_opt=576.46 \t  eq=0.00011 \t neq=-0.0\n",
      "🔄 it=16 \t (sub iter=399) \t t_opt=922.34 \t  eq=7.000000000000001e-05 \t neq=-0.0\n",
      "✅ found feasible solution\n",
      "Execution time: 1.5596652030944824 seconds\n"
     ]
    }
   ],
   "source": [
    "price_balance_start = -0.1\n",
    "price_balance_end   = 0.1\n",
    "\n",
    "solver = Solver( partial(problem_def_powerflow, n_steps = 50), use_continuation=False )\n",
    "#solver.verbose = False\n",
    "solver.theta['price_balance'] = price_balance_start\n",
    "solver.run() # compile\n",
    "\n",
    "\n",
    "print('loop')\n",
    "trace_parameter_sweep = []\n",
    "price_balances = jnp.linspace(price_balance_start, price_balance_end, 3) # note: do not compute too much as otherwise CI will timeout\n",
    "\n",
    "for price_balance in price_balances:\n",
    "    \n",
    "    solver.theta['price_balance'] = price_balance\n",
    "    \n",
    "    solver_return = solver.run()\n",
    "    X_opt, U_opt, system_outputs, res = solver_return\n",
    "    is_converged, c_eq, c_ineq, trace, n_iter = unpack_res(res)\n",
    "    assert is_converged\n",
    "    \n",
    "    trace_parameter_sweep.append(solver_return)\n"
   ]
  },
  {
   "cell_type": "code",
   "execution_count": null,
   "id": "c40bf838-c23e-496f-897c-92e5a40721dc",
   "metadata": {},
   "outputs": [],
   "source": []
  }
 ],
 "metadata": {
  "kernelspec": {
   "display_name": "Python 3 (ipykernel)",
   "language": "python",
   "name": "python3"
  },
  "language_info": {
   "codemirror_mode": {
    "name": "ipython",
    "version": 3
   },
   "file_extension": ".py",
   "mimetype": "text/x-python",
   "name": "python",
   "nbconvert_exporter": "python",
   "pygments_lexer": "ipython3",
   "version": "3.9.13"
  }
 },
 "nbformat": 4,
 "nbformat_minor": 5
}
