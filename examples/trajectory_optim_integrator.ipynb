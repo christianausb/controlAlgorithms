{
 "cells": [
  {
   "cell_type": "code",
   "execution_count": 1,
   "id": "5e0aa4ab-22e1-4d10-a4de-89db911040ea",
   "metadata": {
    "tags": [
     "lib"
    ]
   },
   "outputs": [],
   "source": [
    "import jax\n",
    "from jax import jit\n",
    "from jax import lax\n",
    "from jax import vmap\n",
    "import jax.numpy as jnp\n",
    "\n",
    "from functools import partial\n",
    "\n",
    "jax.config.update('jax_enable_x64', True)"
   ]
  },
  {
   "cell_type": "code",
   "execution_count": 2,
   "id": "a350839f-96c0-43ba-87fc-15bc826dbd74",
   "metadata": {
    "tags": [
     "notebook"
    ]
   },
   "outputs": [],
   "source": [
    "import math\n",
    "import numpy as np\n",
    "import plotly.express as px\n",
    "import IPython\n",
    "import matplotlib.pyplot as plt \n",
    "import ipywidgets as widgets\n",
    "\n",
    "%config InlineBackend.figure_formats = ['svg']"
   ]
  },
  {
   "cell_type": "code",
   "execution_count": 3,
   "id": "29ba4f8d-620c-4c69-acf4-b8b710d9698d",
   "metadata": {},
   "outputs": [],
   "source": [
    "from jax_control_algorithms.trajectory_optimization import Solver, constraint_geq, constraint_leq\n",
    "from jax_control_algorithms.ui import manual_investigate, solve_and_plot\n",
    "from jax_control_algorithms.common import rk4\n",
    "\n",
    "def make_time_vectors(X_opt, U_opt):\n",
    "    # make time vectors\n",
    "    t_X = jnp.linspace(0, X_opt.shape[0]-1, X_opt.shape[0])\n",
    "    t_U = jnp.linspace(0, U_opt.shape[0]-1, U_opt.shape[0])\n",
    "    \n",
    "    return t_X, t_U"
   ]
  },
  {
   "cell_type": "code",
   "execution_count": 4,
   "id": "170b83a5-e021-48d2-9da2-4083cfc77bc3",
   "metadata": {
    "tags": []
   },
   "outputs": [],
   "source": [
    "test_results = []"
   ]
  },
  {
   "cell_type": "markdown",
   "id": "a69a490b-b910-4547-a065-29ae454bbe3b",
   "metadata": {},
   "source": [
    "# Integrator model"
   ]
  },
  {
   "cell_type": "code",
   "execution_count": 5,
   "id": "48bc01fd-3740-4a27-97c5-69c5794c8239",
   "metadata": {},
   "outputs": [],
   "source": [
    "def problem_def_integrator(n_steps, dt):\n",
    "        \n",
    "    def model(x, u, k, theta):\n",
    "        del k\n",
    "        x_1,  = x\n",
    "\n",
    "        a,   = theta['a'], \n",
    "        x_1_dot = jnp.squeeze(u) - a * x_1\n",
    "\n",
    "        x_dot = jnp.array([\n",
    "            x_1_dot,\n",
    "        ])\n",
    "\n",
    "        # cost\n",
    "        J = theta['wu'] * u**2\n",
    "        \n",
    "        return x_dot, J\n",
    "\n",
    "    def f(x, u, k, theta):\n",
    "        x_dot, _ = model(x, u, k, theta)\n",
    "        return x_dot\n",
    "\n",
    "    def g(x, u, k, theta):\n",
    "        \n",
    "        x_dot, _ = model(x, u, k, theta)\n",
    "        return \n",
    "\n",
    "    def running_cost(x, u, k, theta):\n",
    "        \n",
    "        x_dot, J  = model(x, u, k, theta)\n",
    "        return J\n",
    "        \n",
    "    def terminal_state_eq_constraints(x_final, theta):\n",
    "        x_1, = x_final\n",
    "        \n",
    "        return jnp.array([\n",
    "            x_1 - theta['x_1_final'],           # != 0\n",
    "        ])\n",
    "    \n",
    "    def inequ_constraints(x, u, k, theta):\n",
    "        \n",
    "        u = u[:,0]\n",
    "        \n",
    "        # constraints\n",
    "        c_ineq = jnp.array([\n",
    "            constraint_geq( u, theta['u_min'] ),\n",
    "            constraint_leq( u, theta['u_max'] ),\n",
    "            \n",
    "        ])\n",
    "        \n",
    "        return c_ineq\n",
    "\n",
    "    def make_guess(x0, theta):\n",
    "                \n",
    "        U_guess = jnp.zeros( (n_steps, 1) )\n",
    "        X_guess = jnp.vstack((\n",
    "            jnp.linspace( x0[0], theta['x_1_final'], n_steps),\n",
    "        )).T\n",
    "        \n",
    "        return { 'X_guess' : X_guess, 'U_guess' : U_guess }\n",
    "    \n",
    "    theta = { \n",
    "        'a'             : 5.0, \n",
    "        'wu'            :  1.00,\n",
    "        'u_min'         : -2.5,\n",
    "        'u_max'         : 2.5,\n",
    "        'x_1_final'     : 1.0,\n",
    "    }\n",
    "    \n",
    "    \n",
    "    x0 = jnp.array([ 0.0, ])\n",
    "    \n",
    "    #\n",
    "    f_dscr = rk4(f, dt)\n",
    "\n",
    "    problem_definition = {\n",
    "        'f' : f_dscr,\n",
    "        'g' : g,\n",
    "        'running_cost' : running_cost,\n",
    "        'terminal_state_eq_constraints': terminal_state_eq_constraints,\n",
    "        'inequ_constraints' : inequ_constraints,\n",
    "        'make_guess' : make_guess,\n",
    "        'theta' : theta,\n",
    "        'x0' : x0,\n",
    "    }\n",
    "    \n",
    "    return problem_definition"
   ]
  },
  {
   "cell_type": "code",
   "execution_count": 6,
   "id": "9271f483-30d2-4c86-bce8-0ddc8b29eaa0",
   "metadata": {},
   "outputs": [],
   "source": [
    "def plot_integrator(X_opt, U_opt, system_outputs, theta):\n",
    "\n",
    "    # prepare data\n",
    "    u = U_opt[:,0]\n",
    "    x_1, =  X_opt[:,0], \n",
    "\n",
    "    _ = system_outputs # unpack output variable (return of function g)\n",
    "\n",
    "    # make time vectors\n",
    "    t_X, t_U = make_time_vectors(X_opt, U_opt)\n",
    "    \n",
    "    # Create a figure and two subplots\n",
    "    fig, (ax1, ax2, ) = plt.subplots(2, 1, sharex=True, figsize=(4, 6))\n",
    "\n",
    "    ax1.plot( t_X, x_1, 'k', label='x_1')\n",
    "    ax1.plot(\n",
    "        [ t_X[0], t_X[-1] ], \n",
    "        jnp.array([theta['x_1_final'], theta['x_1_final']]), 'k:',\n",
    "        label='x_1_final'\n",
    "    )\n",
    "    \n",
    "    ax1.legend()\n",
    "    ax1.set_ylabel('x_1 []')\n",
    "\n",
    "    # \n",
    "    ax2.plot( t_U, u, 'k', label='u' )    \n",
    "    ax2.plot(\n",
    "        [ t_U[0], t_U[-1] ], \n",
    "        jnp.array([theta['u_min'], theta['u_min']]), ':k',\n",
    "        label='u_min'\n",
    "    )\n",
    "    ax2.plot(\n",
    "        [ t_U[0], t_U[-1] ], \n",
    "        jnp.array([theta['u_max'], theta['u_max']]), ':k',\n",
    "        label='u_max'\n",
    "    )\n",
    "    \n",
    "    ax2.legend()\n",
    "    ax2.set_ylabel('u []')\n",
    "\n",
    "    # Show the plot\n",
    "    plt.show()"
   ]
  },
  {
   "cell_type": "code",
   "execution_count": 7,
   "id": "c28ebae4-fed8-4364-862c-a11778129017",
   "metadata": {},
   "outputs": [],
   "source": [
    "sliders = {\n",
    "        'a'     : widgets.FloatSlider(min=0.0,  max=1.0,  step=0.01,   value=0.7,  description='a'),\n",
    "        'u_min' : widgets.FloatSlider(min=-2,  max=0,   step=0.01,  value=-2,   description='u_min'),\n",
    "        'u_max' : widgets.FloatSlider(min=0,    max=2,  step=0.01,  value=1,    description='u_max'),\n",
    "}\n",
    "\n",
    "solver = Solver( partial(problem_def_integrator, n_steps = 50, dt=0.1) )\n",
    "solver.solver_settings['max_float32_iterations'] = 0\n",
    "\n",
    "\n",
    "def set_theta_fn(solver, a, u_min, u_max):\n",
    "        solver.problem_definition['theta']['a'] = a\n",
    "        solver.problem_definition['theta']['u_min'] = u_min\n",
    "        solver.problem_definition['theta']['u_max'] = u_max\n",
    "        \n",
    "#solver.theta"
   ]
  },
  {
   "cell_type": "code",
   "execution_count": 8,
   "id": "f2714462-53b8-44b4-9689-7abcf19ffc35",
   "metadata": {},
   "outputs": [],
   "source": [
    "def test_pendulum():\n",
    "    # test\n",
    "    set_theta_fn(solver, a=0.0,  u_min=-10, u_max=10)\n",
    "    X_opt, U_opt, system_outputs, res = solver.run()    "
   ]
  },
  {
   "cell_type": "code",
   "execution_count": 9,
   "id": "1c672f04-8908-4dc0-94e0-c301680fc7e5",
   "metadata": {
    "tags": []
   },
   "outputs": [
    {
     "data": {
      "application/vnd.jupyter.widget-view+json": {
       "model_id": "943e2809906a47c1adc9ead06563b932",
       "version_major": 2,
       "version_minor": 0
      },
      "text/plain": [
       "GridBox(children=(FloatSlider(value=0.7, description='a', max=1.0, step=0.01), FloatSlider(value=-2.0, descrip…"
      ]
     },
     "metadata": {},
     "output_type": "display_data"
    },
    {
     "data": {
      "application/vnd.jupyter.widget-view+json": {
       "model_id": "8dc95935647d41029f20a5673127ab24",
       "version_major": 2,
       "version_minor": 0
      },
      "text/plain": [
       "Output()"
      ]
     },
     "metadata": {},
     "output_type": "display_data"
    },
    {
     "data": {
      "application/vnd.jupyter.widget-view+json": {
       "model_id": "98dbd0d943174c4baa1a477a82ee8952",
       "version_major": 2,
       "version_minor": 0
      },
      "text/plain": [
       "Output()"
      ]
     },
     "metadata": {},
     "output_type": "display_data"
    }
   ],
   "source": [
    "ui, output_box, print_output, plot_output = manual_investigate(solver, sliders, set_theta_fn, plot_integrator )\n",
    "display(ui, plot_output, print_output)"
   ]
  },
  {
   "cell_type": "code",
   "execution_count": 10,
   "id": "edd840c3-e5f3-4752-8f3e-c147cfa55499",
   "metadata": {
    "tags": []
   },
   "outputs": [],
   "source": [
    "test_results.append( ['single integrator', solver.success ] )"
   ]
  },
  {
   "cell_type": "markdown",
   "id": "98def039-e846-476c-accb-7abba3e3d133",
   "metadata": {
    "tags": []
   },
   "source": [
    "# Double integrator"
   ]
  },
  {
   "cell_type": "code",
   "execution_count": 11,
   "id": "22d229f2-b464-4e0b-8c4e-a710e8f214fd",
   "metadata": {
    "tags": []
   },
   "outputs": [],
   "source": [
    "def problem_def_2integrator(n_steps, dt):\n",
    "        \n",
    "    def model(x, u, k, theta):\n",
    "        del k\n",
    "        x_1, X_2,  = x[0], x[1]\n",
    "\n",
    "        a,   = theta['a'], \n",
    "        x_1_dot = jnp.squeeze(u) - a * x_1\n",
    "        x_2_dot = x_1\n",
    "\n",
    "        x_dot = jnp.array([\n",
    "            x_1_dot, x_2_dot\n",
    "        ])\n",
    "\n",
    "        # cost + diff u\n",
    "        J = theta['wu'] * u**2\n",
    "        \n",
    "        return x_dot, J\n",
    "\n",
    "    def f(x, u, k, theta):\n",
    "        x_dot, _ = model(x, u, k, theta)\n",
    "        return x_dot\n",
    "\n",
    "    def g(x, u, k, theta):\n",
    "        \n",
    "        x_dot, _ = model(x, u, k, theta)\n",
    "        return \n",
    "\n",
    "    def running_cost(x, u, k, theta):\n",
    "        \n",
    "        x_dot, J  = model(x, u, k, theta)\n",
    "        return J\n",
    "        \n",
    "    def terminal_state_eq_constraints(x_final, theta):\n",
    "        \n",
    "        return jnp.array([\n",
    "            x_final[0] - theta['x_1_final'],           # != 0\n",
    "            x_final[1] - theta['x_2_final'],           # != 0\n",
    "        ])\n",
    "    \n",
    "    def inequ_constraints(x, u, k, theta):\n",
    "        \n",
    "        u = u[:,0]\n",
    "        \n",
    "        # constraints\n",
    "        c_ineq = jnp.array([\n",
    "            constraint_geq( u, theta['u_min'] ),\n",
    "            constraint_leq( u, theta['u_max'] ),\n",
    "            \n",
    "        ])\n",
    "        \n",
    "        # x_dot, P_transmission, P_yield, J, c_ineq = model(x, u, k, theta)\n",
    "        return c_ineq\n",
    "\n",
    "    def make_guess(x0, theta):\n",
    "                \n",
    "        U_guess = jnp.zeros( (n_steps, 1) )\n",
    "        X_guess = jnp.vstack((\n",
    "            jnp.linspace( x0[0], theta['x_1_final'], n_steps),\n",
    "            jnp.linspace( x0[1], theta['x_2_final'], n_steps),\n",
    "        )).T\n",
    "        \n",
    "        return { 'X_guess' : X_guess, 'U_guess' : U_guess }\n",
    "    \n",
    "    theta = { \n",
    "        'a'             : 5.0, \n",
    "        'wu'            :  1.00,\n",
    "        'u_min'         : -2.5,\n",
    "        'u_max'         : 2.5,\n",
    "        'x_1_final'     : 0.0,\n",
    "        'x_2_final'     : 10.0,\n",
    "    }\n",
    "    \n",
    "    \n",
    "    x0 = jnp.array([ 0.0, 0.0 ])\n",
    "    \n",
    "    #\n",
    "    f_dscr = rk4(f, dt)\n",
    "\n",
    "    problem_definition = {\n",
    "        'f' : f_dscr,\n",
    "        'g' : g,\n",
    "        'running_cost' : running_cost,\n",
    "        'terminal_state_eq_constraints': terminal_state_eq_constraints,\n",
    "        'inequ_constraints' : inequ_constraints,\n",
    "        'make_guess' : make_guess,\n",
    "        'theta' : theta,\n",
    "        'x0' : x0,\n",
    "    }\n",
    "    \n",
    "    return problem_definition   \n"
   ]
  },
  {
   "cell_type": "code",
   "execution_count": 12,
   "id": "9f80f780-1530-448d-bce7-879d87f23744",
   "metadata": {
    "tags": []
   },
   "outputs": [],
   "source": [
    "def plot_2integrator(X_opt, U_opt, system_outputs, theta):\n",
    "\n",
    "    # prepare data\n",
    "    u = U_opt[:,0]\n",
    "    x_1, x_2 =  X_opt[:,0], X_opt[:,1]\n",
    "\n",
    "    _ = system_outputs # unpack output variable (return of function g)\n",
    "\n",
    "    # make time vectors\n",
    "    t_X, t_U = make_time_vectors(X_opt, U_opt)\n",
    "    \n",
    "    # Create a figure and two subplots\n",
    "    fig, (ax1, ax2, ) = plt.subplots(2, 1, sharex=True, figsize=(4, 6))\n",
    "\n",
    "    ax1.plot( t_X, x_1, 'r', label='x_1')\n",
    "    ax1.plot( t_X, x_2, 'k', label='x_2')\n",
    "    ax1.plot(\n",
    "        [ t_X[0], t_X[-1] ], \n",
    "        jnp.array([theta['x_2_final'], theta['x_2_final']]), 'k:',\n",
    "        label='x_2_final'\n",
    "    )\n",
    "    \n",
    "    ax1.legend()\n",
    "    ax1.set_ylabel('x_1 []')\n",
    "\n",
    "    # \n",
    "    ax2.plot( t_U, u, 'k', label='u' )    \n",
    "    ax2.plot(\n",
    "        [ t_U[0], t_U[-1] ], \n",
    "        jnp.array([theta['u_min'], theta['u_min']]), ':k',\n",
    "        label='u_min'\n",
    "    )\n",
    "    ax2.plot(\n",
    "        [ t_U[0], t_U[-1] ], \n",
    "        jnp.array([theta['u_max'], theta['u_max']]), ':k',\n",
    "        label='u_max'\n",
    "    )\n",
    "    \n",
    "    ax2.legend()\n",
    "    ax2.set_ylabel('u []')\n",
    "\n",
    "    # Show the plot\n",
    "    plt.show()"
   ]
  },
  {
   "cell_type": "code",
   "execution_count": 13,
   "id": "7920d242-b26d-49a7-a630-9acfb06c6f2b",
   "metadata": {
    "tags": []
   },
   "outputs": [],
   "source": [
    "sliders = {\n",
    "        'a'     : widgets.FloatSlider(min=0.0,  max=1.0, step=0.01,  value=0.0,  description='a'),\n",
    "        'u_min' : widgets.FloatSlider(min=-10,  max=0,   step=0.01,  value=-2,   description='u_min'),\n",
    "        'u_max' : widgets.FloatSlider(min=0,    max=10,  step=0.01,  value=2,    description='u_max'),\n",
    "}\n",
    "\n",
    "solver = Solver( partial(problem_def_2integrator, n_steps = 50, dt=0.1) )\n",
    "solver.solver_settings['max_float32_iterations'] = 0\n",
    "solver.solver_settings['max_iter_boundary_method'] = 100\n",
    "solver.solver_settings['c_eq_init'] = 1000\n",
    "\n",
    "def set_theta_fn(solver, a, u_min, u_max):\n",
    "        solver.problem_definition['theta']['a'] = a\n",
    "        solver.problem_definition['theta']['u_min'] = u_min\n",
    "        solver.problem_definition['theta']['u_max'] = u_max"
   ]
  },
  {
   "cell_type": "code",
   "execution_count": 14,
   "id": "62299d02-fe4b-47d1-ab9d-83f061ce2427",
   "metadata": {
    "tags": []
   },
   "outputs": [
    {
     "data": {
      "application/vnd.jupyter.widget-view+json": {
       "model_id": "39670a0035994564938db06505162fa7",
       "version_major": 2,
       "version_minor": 0
      },
      "text/plain": [
       "GridBox(children=(FloatSlider(value=0.0, description='a', max=1.0, step=0.01), FloatSlider(value=-2.0, descrip…"
      ]
     },
     "metadata": {},
     "output_type": "display_data"
    },
    {
     "data": {
      "application/vnd.jupyter.widget-view+json": {
       "model_id": "f4a0af2f5dfe4590a848d651e42b033e",
       "version_major": 2,
       "version_minor": 0
      },
      "text/plain": [
       "Output()"
      ]
     },
     "metadata": {},
     "output_type": "display_data"
    },
    {
     "data": {
      "application/vnd.jupyter.widget-view+json": {
       "model_id": "1d47a6e6861945a1ab73b00a24cfd8a8",
       "version_major": 2,
       "version_minor": 0
      },
      "text/plain": [
       "Output()"
      ]
     },
     "metadata": {},
     "output_type": "display_data"
    }
   ],
   "source": [
    "ui, output_box, print_output, plot_output = manual_investigate(solver, sliders, set_theta_fn, plot_2integrator )\n",
    "display(ui, plot_output, print_output)"
   ]
  },
  {
   "cell_type": "code",
   "execution_count": 15,
   "id": "f472d0b0-ac13-4d06-b9d3-e490de0ead5c",
   "metadata": {
    "tags": []
   },
   "outputs": [],
   "source": [
    "test_results.append( ['double integrator', solver.success ] )"
   ]
  },
  {
   "cell_type": "markdown",
   "id": "9f218ac2-dc1b-4361-9d88-9640f6f6feaf",
   "metadata": {
    "tags": []
   },
   "source": [
    "### Re-run with different initial conditions"
   ]
  },
  {
   "cell_type": "code",
   "execution_count": 16,
   "id": "ce2c3f8a-7e8c-4ad3-9de4-45543ee035fa",
   "metadata": {
    "tags": []
   },
   "outputs": [
    {
     "name": "stdout",
     "output_type": "stream",
     "text": [
      "👉 solving problem with n_horizon=50, n_states=2 n_inputs=1\n",
      "🔄 it=0 \t (sub iter=133)\tt/t_final = 0 %\teq_error/eq_tol = 45476 %\tbounds ok: True\n",
      "🔄 it=1 \t (sub iter=118)\tt/t_final = 1 %\teq_error/eq_tol = 30622 %\tbounds ok: True\n",
      "🔄 it=2 \t (sub iter=123)\tt/t_final = 1 %\teq_error/eq_tol = 19902 %\tbounds ok: True\n",
      "🔄 it=3 \t (sub iter=122)\tt/t_final = 2 %\teq_error/eq_tol = 12629 %\tbounds ok: True\n",
      "🔄 it=4 \t (sub iter=122)\tt/t_final = 3 %\teq_error/eq_tol = 7900 %\tbounds ok: True\n",
      "🔄 it=5 \t (sub iter=122)\tt/t_final = 5 %\teq_error/eq_tol = 4906 %\tbounds ok: True\n",
      "🔄 it=6 \t (sub iter=117)\tt/t_final = 8 %\teq_error/eq_tol = 3040 %\tbounds ok: True\n",
      "🔄 it=7 \t (sub iter=116)\tt/t_final = 13 %\teq_error/eq_tol = 1883 %\tbounds ok: True\n",
      "🔄 it=8 \t (sub iter=119)\tt/t_final = 21 %\teq_error/eq_tol = 1168 %\tbounds ok: True\n",
      "🔄 it=9 \t (sub iter=120)\tt/t_final = 34 %\teq_error/eq_tol = 725 %\tbounds ok: True\n",
      "🔄 it=10 \t (sub iter=118)\tt/t_final = 55 %\teq_error/eq_tol = 451 %\tbounds ok: True\n",
      "🔄 it=11 \t (sub iter=118)\tt/t_final = 88 %\teq_error/eq_tol = 281 %\tbounds ok: True\n",
      "🔄 it=12 \t (sub iter=110)\tt/t_final = 100 %\teq_error/eq_tol = 176 %\tbounds ok: True\n",
      "🔄 it=13 \t (sub iter=109)\tt/t_final = 100 %\teq_error/eq_tol = 110 %\tbounds ok: True\n",
      "🔄 it=14 \t (sub iter=108)\tt/t_final = 100 %\teq_error/eq_tol = 69 %\tbounds ok: True\n",
      "✅ found feasible solution\n",
      "time to run: 0.3610069751739502 seconds\n"
     ]
    }
   ],
   "source": [
    "solver.problem_definition['x0'] = jnp.array( [0.1, 0.2] )\n",
    "_ = solver.run()"
   ]
  },
  {
   "cell_type": "markdown",
   "id": "61b9fd65-c8c8-4e7b-9772-8cd7def2a8ef",
   "metadata": {},
   "source": [
    "# Verify"
   ]
  },
  {
   "cell_type": "code",
   "execution_count": 17,
   "id": "d2e4ce8f-e337-4167-b9f9-b1837786a3a9",
   "metadata": {
    "tags": []
   },
   "outputs": [],
   "source": [
    "def verify_test_results(test_results):\n",
    "    for r in test_results:\n",
    "        if not r[1]:\n",
    "            raise BaseException('Test ' + r[0] + ' failed')\n",
    "            \n",
    "verify_test_results(test_results)"
   ]
  }
 ],
 "metadata": {
  "kernelspec": {
   "display_name": "Python 3 (ipykernel)",
   "language": "python",
   "name": "python3"
  },
  "language_info": {
   "codemirror_mode": {
    "name": "ipython",
    "version": 3
   },
   "file_extension": ".py",
   "mimetype": "text/x-python",
   "name": "python",
   "nbconvert_exporter": "python",
   "pygments_lexer": "ipython3",
   "version": "3.9.13"
  }
 },
 "nbformat": 4,
 "nbformat_minor": 5
}
