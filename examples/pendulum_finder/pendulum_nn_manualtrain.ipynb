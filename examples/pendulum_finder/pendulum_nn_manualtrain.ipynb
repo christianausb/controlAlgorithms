{
 "cells": [
  {
   "cell_type": "code",
   "execution_count": 1,
   "id": "391836a5-483a-4bbd-8533-77da3857207f",
   "metadata": {},
   "outputs": [],
   "source": [
    "is_on_colab = False\n",
    "\n",
    "if is_on_colab:\n",
    "    from google.colab import drive\n",
    "    drive.mount('/content/drive')\n",
    "    "
   ]
  },
  {
   "cell_type": "code",
   "execution_count": 2,
   "id": "fe8420a0-ad43-4e6a-be11-d0b0a62bb819",
   "metadata": {},
   "outputs": [],
   "source": [
    "#%cd /content/drive/MyDrive/<..>/optimal_control_jax/examples/pendulum_finder\n",
    "#%pip install jaxopt tensor-canvas"
   ]
  },
  {
   "cell_type": "code",
   "execution_count": 3,
   "id": "9ceafc14-802a-436b-8feb-cd93171eef75",
   "metadata": {},
   "outputs": [],
   "source": [
    "import os\n",
    "os.environ['XLA_PYTHON_CLIENT_PREALLOCATE'] = 'false' # prevent JAX from allocating all GPU memory"
   ]
  },
  {
   "cell_type": "code",
   "execution_count": 4,
   "id": "a27ef97a-f8de-46a1-8415-37ba2a78bdc0",
   "metadata": {},
   "outputs": [],
   "source": [
    "from functools import partial\n",
    "\n",
    "import numpy as np\n",
    "import pandas as pd\n",
    "import math\n",
    "import plotly.express as px\n",
    "import matplotlib.pyplot as plt \n",
    "from ipywidgets import interact, interactive\n",
    "\n",
    "import tensorflow as tf\n",
    "from tensorflow.keras.models import Model\n",
    "\n",
    "if not is_on_colab:\n",
    "    tf.config.set_visible_devices([], 'GPU')   # workaround on mac M1 "
   ]
  },
  {
   "cell_type": "code",
   "execution_count": 5,
   "id": "e7eb3112-d5a8-4795-b08b-1e3e8f8d0f14",
   "metadata": {},
   "outputs": [],
   "source": [
    "import jax\n",
    "from jax import jit\n",
    "from jax import lax\n",
    "from jax import vmap\n",
    "import jax.numpy as jnp\n",
    "from jax.experimental import jax2tf\n",
    "\n",
    "from jax_control_algorithms.plot_helpers import plot_states, plot_output_comparison, plot_state_comparison\n",
    "from load_video import load_dataset_single_video, load_video\n",
    "from uncontrolled_pendulum import *\n",
    "from pendulum_nn_models import *\n",
    "from pendulum_nn_helper import *\n",
    "\n",
    "jax.config.update('jax_enable_x64', True)"
   ]
  },
  {
   "cell_type": "code",
   "execution_count": 6,
   "id": "0c2f4244-d2e7-4fa1-a517-99e22ec5611d",
   "metadata": {},
   "outputs": [
    {
     "data": {
      "text/html": [
       "<div>\n",
       "<style scoped>\n",
       "    .dataframe tbody tr th:only-of-type {\n",
       "        vertical-align: middle;\n",
       "    }\n",
       "\n",
       "    .dataframe tbody tr th {\n",
       "        vertical-align: top;\n",
       "    }\n",
       "\n",
       "    .dataframe thead th {\n",
       "        text-align: right;\n",
       "    }\n",
       "</style>\n",
       "<table border=\"1\" class=\"dataframe\">\n",
       "  <thead>\n",
       "    <tr style=\"text-align: right;\">\n",
       "      <th></th>\n",
       "      <th>scenario</th>\n",
       "      <th>vfile</th>\n",
       "    </tr>\n",
       "  </thead>\n",
       "  <tbody>\n",
       "    <tr>\n",
       "      <th>0</th>\n",
       "      <td>redapple</td>\n",
       "      <td>pendulum_videos/redapple_480p.mov</td>\n",
       "    </tr>\n",
       "    <tr>\n",
       "      <th>1</th>\n",
       "      <td>zucchini</td>\n",
       "      <td>pendulum_videos/zucchini_480p.mov</td>\n",
       "    </tr>\n",
       "    <tr>\n",
       "      <th>2</th>\n",
       "      <td>star</td>\n",
       "      <td>pendulum_videos/star_480p.mov</td>\n",
       "    </tr>\n",
       "    <tr>\n",
       "      <th>3</th>\n",
       "      <td>tree1</td>\n",
       "      <td>pendulum_videos/tree1_480p.mov</td>\n",
       "    </tr>\n",
       "    <tr>\n",
       "      <th>4</th>\n",
       "      <td>tree2</td>\n",
       "      <td>pendulum_videos/tree2_480p.mov</td>\n",
       "    </tr>\n",
       "    <tr>\n",
       "      <th>5</th>\n",
       "      <td>leaf</td>\n",
       "      <td>pendulum_videos/leaf_480p.mov</td>\n",
       "    </tr>\n",
       "  </tbody>\n",
       "</table>\n",
       "</div>"
      ],
      "text/plain": [
       "   scenario                              vfile\n",
       "0  redapple  pendulum_videos/redapple_480p.mov\n",
       "1  zucchini  pendulum_videos/zucchini_480p.mov\n",
       "2      star      pendulum_videos/star_480p.mov\n",
       "3     tree1     pendulum_videos/tree1_480p.mov\n",
       "4     tree2     pendulum_videos/tree2_480p.mov\n",
       "5      leaf      pendulum_videos/leaf_480p.mov"
      ]
     },
     "execution_count": 6,
     "metadata": {},
     "output_type": "execute_result"
    }
   ],
   "source": [
    "pdf_scenarios = pd.DataFrame([\n",
    "        {'scenario' : 'redapple',    'vfile' : 'pendulum_videos/redapple_480p.mov'},\n",
    "        {'scenario' : 'zucchini',    'vfile' : 'pendulum_videos/zucchini_480p.mov'},\n",
    "        {'scenario' : 'star',        'vfile' : 'pendulum_videos/star_480p.mov'},\n",
    "        {'scenario' : 'tree1',        'vfile' : 'pendulum_videos/tree1_480p.mov'},\n",
    "        {'scenario' : 'tree2',        'vfile' : 'pendulum_videos/tree2_480p.mov'},\n",
    "        {'scenario' : 'leaf',        'vfile' : 'pendulum_videos/leaf_480p.mov'},\n",
    "])\n",
    "\n",
    "pdf_scenarios"
   ]
  },
  {
   "cell_type": "markdown",
   "id": "ab72a1cf-8a3f-4bac-a531-17df432bf143",
   "metadata": {},
   "source": [
    "# Load data from a video file\n",
    "\n"
   ]
  },
  {
   "cell_type": "code",
   "execution_count": 7,
   "id": "c7b9530f-d200-4291-bdeb-452b1730098c",
   "metadata": {},
   "outputs": [],
   "source": [
    "scenario = 'zucchini'"
   ]
  },
  {
   "cell_type": "code",
   "execution_count": 8,
   "id": "5a3704f6-ba4a-49ae-b775-293190a3c5da",
   "metadata": {},
   "outputs": [
    {
     "name": "stdout",
     "output_type": "stream",
     "text": [
      "loading pendulum_videos/zucchini_480p.mov\n"
     ]
    },
    {
     "data": {
      "application/vnd.jupyter.widget-view+json": {
       "model_id": "5674ae6057c1466995077adb92b419bd",
       "version_major": 2,
       "version_minor": 0
      },
      "text/plain": [
       "interactive(children=(IntSlider(value=806, description='i', max=1613), Output()), _dom_classes=('widget-intera…"
      ]
     },
     "metadata": {},
     "output_type": "display_data"
    }
   ],
   "source": [
    "vfile = pdf_scenarios[ pdf_scenarios.scenario == scenario ]['vfile'].iloc[0]\n",
    "print(f'loading {vfile}')\n",
    "\n",
    "x_train, mean_picture, T_batch, picture_shape, max_time, dt = load_dataset_single_video(\n",
    "    vfile, \n",
    "    target_size = [96, 160], \n",
    "    is_remove_meanpic = True, \n",
    "    dt = 1/60.0\n",
    ")\n",
    "\n",
    "def show_picture(i : int):    \n",
    "    plt.imshow(x_train[0,i,:,:,:])\n",
    "    plt.show()\n",
    "\n",
    "\n",
    "interactive( show_picture, i = (0,x_train.shape[1]-2) )"
   ]
  },
  {
   "cell_type": "code",
   "execution_count": 9,
   "id": "dc78e0f3-995a-47ae-a95f-954959c92077",
   "metadata": {},
   "outputs": [
    {
     "data": {
      "text/plain": [
       "<matplotlib.image.AxesImage at 0x295e587f0>"
      ]
     },
     "execution_count": 9,
     "metadata": {},
     "output_type": "execute_result"
    },
    {
     "data": {
      "image/png": "[encoded data removed]",
      "text/plain": [
       "<Figure size 640x480 with 1 Axes>"
      ]
     },
     "metadata": {},
     "output_type": "display_data"
    }
   ],
   "source": [
    "plt.imshow( mean_picture[0] )"
   ]
  },
  {
   "cell_type": "markdown",
   "id": "bae36308-cc21-49b0-8526-9641b6fdfcec",
   "metadata": {},
   "source": [
    "# With pendulum model constraints"
   ]
  },
  {
   "cell_type": "code",
   "execution_count": 10,
   "id": "43d5dc2b-a1f2-4139-8b78-2b23017f4a03",
   "metadata": {},
   "outputs": [],
   "source": [
    "pe_autoencoder = build_physically_informed_model2(\n",
    "    lambda_ml = 1.0,\n",
    "    lambda_mv = 1.0,\n",
    "    lambda_pendulum_fit = 1.0,\n",
    "    lambda_stability = 0.01,\n",
    "    \n",
    "    wy1 = 1.0, wy2 = 1.0, wx1 = 100.0, wx2 = 100.0, \n",
    "\n",
    "    lambda_exp = 1.5,\n",
    "    \n",
    "    picture_shape=picture_shape, \n",
    "    max_time=max_time, dt=dt\n",
    ")"
   ]
  },
  {
   "cell_type": "code",
   "execution_count": 11,
   "id": "3271954d-a4d5-487b-b2b9-7dcfb87ad3e5",
   "metadata": {},
   "outputs": [],
   "source": [
    "# pe_autoencoder = tf.keras.models.load_model('trained_models/XX')"
   ]
  },
  {
   "cell_type": "code",
   "execution_count": 12,
   "id": "8491c97a-b9a5-4169-b1e7-38dcc9c411b4",
   "metadata": {},
   "outputs": [
    {
     "name": "stdout",
     "output_type": "stream",
     "text": [
      "WARNING:tensorflow:From /Users/christian/opt/anaconda3/lib/python3.9/site-packages/tensorflow/python/autograph/pyct/static_analysis/liveness.py:83: Analyzer.lamba_check (from tensorflow.python.autograph.pyct.static_analysis.liveness) is deprecated and will be removed after 2023-09-23.\n",
      "Instructions for updating:\n",
      "Lambda fuctions will be no more assumed to be used in the statement where they are used, or at least in the same block. https://github.com/tensorflow/tensorflow/issues/56089\n"
     ]
    },
    {
     "name": "stderr",
     "output_type": "stream",
     "text": [
      "2023-03-09 20:09:00.903217: W tensorflow/tsl/platform/profile_utils/cpu_utils.cc:128] Failed to get CPU frequency: 0 Hz\n"
     ]
    },
    {
     "data": {
      "text/plain": [
       "(<tf.Tensor: shape=(1,), dtype=float32, numpy=array([1.0289466], dtype=float32)>,\n",
       " <tf.Tensor: shape=(1, 3), dtype=float32, numpy=array([[4., 0., 0.]], dtype=float32)>,\n",
       " array([[0., 0.]], dtype=float32))"
      ]
     },
     "execution_count": 12,
     "metadata": {},
     "output_type": "execute_result"
    }
   ],
   "source": [
    "# test\n",
    "#tmp = pe_autoencoder.predict(x_train)\n",
    "tmp = pe_autoencoder(x_train)\n",
    "# print([ x.shape if x is not None else None  for x in tmp ])\n",
    "img_seq_dec, J_, Y_measurement, Y_dot_measurement, e_delta, X_hat, theta_hat, J_pendulum_fit = tmp\n",
    "del tmp\n",
    "J_, theta_hat, np.rad2deg(X_hat[:,0,:])"
   ]
  },
  {
   "cell_type": "code",
   "execution_count": 13,
   "id": "51eab25f-a454-42f2-a727-e9ab806dbbc0",
   "metadata": {},
   "outputs": [
    {
     "name": "stdout",
     "output_type": "stream",
     "text": [
      "Model: \"pendulum_model_autoencoder\"\n",
      "_________________________________________________________________\n",
      " Layer (type)                Output Shape              Param #   \n",
      "=================================================================\n",
      " encoder_model_4CNN_layers_1  (1615, 128)              516176    \n",
      " 28out (Sequential)                                              \n",
      "                                                                 \n",
      " decoder_model_4CNNT_layers_  (1615, 96, 160, 3)       519911    \n",
      " 128out (Sequential)                                             \n",
      "                                                                 \n",
      " embedding_to_position_model  (1615, 1)                2209      \n",
      "  (Sequential)                                                   \n",
      "                                                                 \n",
      " position_to_embedding_model  (1615, 128)              2336      \n",
      "  (Sequential)                                                   \n",
      "                                                                 \n",
      " image_to_position_delta_mod  (1614, 1)                524497    \n",
      " el (Sequential)                                                 \n",
      "                                                                 \n",
      " weight_controller (WeightCo  multiple                 25002     \n",
      " ntroller)                                                       \n",
      "                                                                 \n",
      "=================================================================\n",
      "Total params: 1,593,364\n",
      "Trainable params: 1,568,362\n",
      "Non-trainable params: 25,002\n",
      "_________________________________________________________________\n"
     ]
    }
   ],
   "source": [
    "pe_autoencoder.compile(\n",
    "    optimizer=tf.keras.optimizers.Adam(learning_rate=0.001 * 1),\n",
    "    loss=[ tf.keras.losses.MeanSquaredError(), None, None, None, None, ],\n",
    "    jit_compile=False\n",
    ")\n",
    "pe_autoencoder.summary()"
   ]
  },
  {
   "cell_type": "code",
   "execution_count": 14,
   "id": "665ca2f5-ae36-463d-b9a9-1b40437550e2",
   "metadata": {
    "tags": []
   },
   "outputs": [
    {
     "name": "stdout",
     "output_type": "stream",
     "text": [
      "Epoch 1/10\n",
      "WARNING:tensorflow:From /Users/christian/opt/anaconda3/lib/python3.9/site-packages/tensorflow/python/util/deprecation.py:629: calling map_fn_v2 (from tensorflow.python.ops.map_fn) with dtype is deprecated and will be removed in a future version.\n",
      "Instructions for updating:\n",
      "Use fn_output_signature instead\n",
      "1/1 [==============================] - 12s 12s/step - loss: 1.1434 - output_1_loss: 0.1145\n",
      "Epoch 2/10\n",
      "1/1 [==============================] - 6s 6s/step - loss: 0.4549 - output_1_loss: 0.1142\n",
      "Epoch 3/10\n",
      "1/1 [==============================] - 6s 6s/step - loss: 0.1540 - output_1_loss: 0.1139\n",
      "Epoch 4/10\n",
      "1/1 [==============================] - 5s 5s/step - loss: 0.3827 - output_1_loss: 0.1136\n",
      "Epoch 5/10\n",
      "1/1 [==============================] - 5s 5s/step - loss: 0.1648 - output_1_loss: 0.1133\n",
      "Epoch 6/10\n",
      "1/1 [==============================] - 5s 5s/step - loss: 0.2080 - output_1_loss: 0.1130\n",
      "Epoch 7/10\n",
      "1/1 [==============================] - 5s 5s/step - loss: 0.2301 - output_1_loss: 0.1127\n",
      "Epoch 8/10\n",
      "1/1 [==============================] - 5s 5s/step - loss: 0.1649 - output_1_loss: 0.1124\n",
      "Epoch 9/10\n",
      "1/1 [==============================] - 5s 5s/step - loss: 0.1592 - output_1_loss: 0.1121\n",
      "Epoch 10/10\n",
      "1/1 [==============================] - 4s 4s/step - loss: 0.1929 - output_1_loss: 0.1117\n"
     ]
    },
    {
     "data": {
      "text/plain": [
       "[<matplotlib.lines.Line2D at 0x2bcfca520>]"
      ]
     },
     "execution_count": 14,
     "metadata": {},
     "output_type": "execute_result"
    },
    {
     "data": {
      "image/png": "[encoded data removed]",
      "text/plain": [
       "<Figure size 640x480 with 1 Axes>"
      ]
     },
     "metadata": {},
     "output_type": "display_data"
    }
   ],
   "source": [
    "history = pe_autoencoder.fit( x_train, x_train, epochs=10, verbose=True )\n",
    "plt.plot( np.log(history.history['loss']) )"
   ]
  },
  {
   "cell_type": "code",
   "execution_count": null,
   "id": "8259b20b-f011-4102-b94c-b03c66762357",
   "metadata": {},
   "outputs": [],
   "source": [
    "pe_autoencoder.save('trained_models/tmp')"
   ]
  },
  {
   "cell_type": "code",
   "execution_count": null,
   "id": "701f57c8-b030-4982-ba56-eb4467f4c2bc",
   "metadata": {},
   "outputs": [],
   "source": [
    "plot_time_eval(pe_autoencoder, x_train, T_batch, dt)"
   ]
  },
  {
   "cell_type": "markdown",
   "id": "ee62448f-fc7a-4ef5-9e00-afff71bdba6b",
   "metadata": {
    "tags": []
   },
   "source": [
    "# Export video"
   ]
  },
  {
   "cell_type": "code",
   "execution_count": null,
   "id": "635b17f4-2afd-462b-8d18-3f554870188f",
   "metadata": {
    "tags": []
   },
   "outputs": [],
   "source": [
    "from export_pendulum_animation import build_video\n",
    "\n",
    "vfile = pdf_scenarios[ pdf_scenarios.scenario == scenario ]['vfile'].iloc[0]\n",
    "print(f'exporting video from {vfile}')\n",
    "\n",
    "#vfile = 'pendulum_videos/ApfelKurz480p.mov'\n",
    "animation = build_video(0, vfile, T_batch, X_hat)\n",
    " \n",
    "# displaying animation with auto play and looping\n",
    "animation.ipython_display(fps = 60, loop = True, autoplay = True)"
   ]
  },
  {
   "cell_type": "code",
   "execution_count": null,
   "id": "b7bea892-4f18-4684-8920-2ee357132907",
   "metadata": {},
   "outputs": [],
   "source": []
  }
 ],
 "metadata": {
  "kernelspec": {
   "display_name": "Python 3 (ipykernel)",
   "language": "python",
   "name": "python3"
  },
  "language_info": {
   "codemirror_mode": {
    "name": "ipython",
    "version": 3
   },
   "file_extension": ".py",
   "mimetype": "text/x-python",
   "name": "python",
   "nbconvert_exporter": "python",
   "pygments_lexer": "ipython3",
   "version": "3.9.13"
  }
 },
 "nbformat": 4,
 "nbformat_minor": 5
}
